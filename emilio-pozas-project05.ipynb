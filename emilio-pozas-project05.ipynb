{
 "cells": [
  {
   "cell_type": "markdown",
   "id": "be02a957-7133-4d02-818e-fedeb3cecb05",
   "metadata": {},
   "source": [
    "# Project 05 -- Emilio Pozas"
   ]
  },
  {
   "cell_type": "markdown",
   "id": "a1228853-dd19-4ab2-89e0-0394d7d72de3",
   "metadata": {},
   "source": [
    "**TA Help:** \n",
    "    \n",
    "**Collaboration:** Help from piazza. Ran into an issue with kernel restarting"
   ]
  },
  {
   "cell_type": "markdown",
   "id": "6180e742-8e39-4698-98ff-5b00c8cf8ea0",
   "metadata": {},
   "source": [
    "## Question 1"
   ]
  },
  {
   "cell_type": "code",
   "execution_count": 8,
   "id": "49445606-d363-41b4-b479-e319a9a84c01",
   "metadata": {},
   "outputs": [],
   "source": [
    "import pandas as pd\n",
    "from pathlib import Path"
   ]
  },
  {
   "cell_type": "code",
   "execution_count": 11,
   "id": "b61c90f4-2b9b-4aea-9fdb-b0350deea9ca",
   "metadata": {},
   "outputs": [],
   "source": [
    "def avg_aggreg_temp(file_location , column_title_list, start_date, end_date, element_code = 'TAVG'):\n",
    "    \"\"\"\n",
    "    avg_aggreg_temp is a function that accepts file location, comlumn title list, start and end date, and element code\n",
    "    It returns the avg value for the rows with that element_code.\n",
    "    \"\"\"\n",
    "    total = 0\n",
    "    count = 0\n",
    "    for myDF in pd.read_csv(Path(f\"/anvil/projects/tdm/data/noaa/{file_location}\"), header=None, names=column_title_list,chunksize=10000):\n",
    "        chunk = myDF[(myDF['date'] >= start_date) & (myDF['date'] <= end_date) & (myDF['element_code'] == element_code)]\n",
    "        total += sum(chunk['value'])\n",
    "        count += len(chunk)\n",
    "    return total / count"
   ]
  },
  {
   "cell_type": "code",
   "execution_count": 13,
   "id": "b4659bfe-7b32-4356-9100-7f30a13de592",
   "metadata": {},
   "outputs": [
    {
     "data": {
      "text/plain": [
       "12.317542410053962"
      ]
     },
     "execution_count": 13,
     "metadata": {},
     "output_type": "execute_result"
    }
   ],
   "source": [
    "avg_aggreg_temp(\"2018.csv\",[\"id\",\"date\",\"element_code\",\"value\",\"mflag\",\"qflag\",\"sflag\",\"obstime\"],20180101,20180115) "
   ]
  },
  {
   "cell_type": "markdown",
   "id": "fc601975-35ed-4680-a4e1-0273ee3cc047",
   "metadata": {},
   "source": [
    "## Question 2"
   ]
  },
  {
   "cell_type": "code",
   "execution_count": 32,
   "id": "a16336a1-1ef0-41e8-bc7c-49387db27497",
   "metadata": {},
   "outputs": [],
   "source": [
    "def years_dict(years, column_title_list, element_code):\n",
    "    mydict= {}\n",
    "    for myyear in years:\n",
    "        total = 0\n",
    "        count = 0\n",
    "        for myDF in pd.read_csv(Path(f\"/anvil/projects/tdm/data/noaa/{myyear}.csv\"), header=None, names=column_title_list,chunksize=10000):\n",
    "            chunk = myDF[(myDF['element_code'] == element_code)]\n",
    "            total += sum(chunk['value'])\n",
    "            count += len(chunk)\n",
    "        mydict[myyear] = total/count\n",
    "    return mydict"
   ]
  },
  {
   "cell_type": "code",
   "execution_count": 33,
   "id": "d408d589-2d4c-43fd-90cb-400bcfd6a620",
   "metadata": {},
   "outputs": [
    {
     "data": {
      "text/plain": [
       "{1880: 127.30054644808743,\n",
       " 1881: 49.00669116954104,\n",
       " 1882: 58.33541290428501,\n",
       " 1883: 50.54050116550116}"
      ]
     },
     "execution_count": 33,
     "metadata": {},
     "output_type": "execute_result"
    }
   ],
   "source": [
    "years_dict(range(1880,1884),[\"id\",\"date\",\"element_code\",\"value\",\"mflag\",\"qflag\",\"sflag\",\"obstime\"],\"TAVG\")"
   ]
  },
  {
   "cell_type": "markdown",
   "id": "8e586edd-ff26-4ce2-8f6b-2424b26f2929",
   "metadata": {},
   "source": [
    "## Question 3"
   ]
  },
  {
   "cell_type": "code",
   "execution_count": 34,
   "id": "bbe0f40d-9655-4653-9ca8-886bdb61cb91",
   "metadata": {},
   "outputs": [],
   "source": [
    "def years_to_month_dict(years,mymonth, column_title_list, element_code):\n",
    "    mydict= {}\n",
    "    for myyear in years:\n",
    "        total = 0\n",
    "        count = 0\n",
    "        for myDF in pd.read_csv(Path(f\"/anvil/projects/tdm/data/noaa/{myyear}.csv\"), header=None, names=column_title_list,chunksize=10000):\n",
    "            myDF['month'] = pd.to_datetime(myDF['date'],format='%Y%m%d').dt.month\n",
    "            chunk = myDF[(myDF['element_code'] == element_code) & (myDF['month']==mymonth)]\n",
    "            total += sum(chunk['value'])\n",
    "            count += len(chunk)\n",
    "        mydict[myyear] = total/count\n",
    "    return mydict"
   ]
  },
  {
   "cell_type": "code",
   "execution_count": 35,
   "id": "6472b726-1829-4a38-a298-f22018bb34a8",
   "metadata": {},
   "outputs": [
    {
     "data": {
      "text/plain": [
       "{1880: 225.70967741935485,\n",
       " 1881: 188.42227122381476,\n",
       " 1882: 207.34585741811176,\n",
       " 1883: 185.22810060711188}"
      ]
     },
     "execution_count": 35,
     "metadata": {},
     "output_type": "execute_result"
    }
   ],
   "source": [
    "years_to_month_dict(range(1880,1884),8,[\"id\",\"date\",\"element_code\",\"value\",\"mflag\",\"qflag\",\"sflag\",\"obstime\"],\"TAVG\")"
   ]
  },
  {
   "cell_type": "markdown",
   "id": "47c6229f-35f7-400c-8366-c442baa5cf47",
   "metadata": {},
   "source": [
    "Markdown notes and sentences and analysis written here."
   ]
  },
  {
   "cell_type": "markdown",
   "id": "da22f29c-d245-4d2b-9fc1-ca14cb6087d9",
   "metadata": {},
   "source": [
    "## Question 4"
   ]
  },
  {
   "cell_type": "code",
   "execution_count": 74,
   "id": "8cffc767-d1c8-4d64-b7dc-f0d2ee8a80d1",
   "metadata": {},
   "outputs": [],
   "source": [
    "def max_qflags (years, qflags, column_title_list):\n",
    "    top_year_count = 0\n",
    "    top_year = 0\n",
    "    for myyear in years:\n",
    "        count = 0\n",
    "        for myDF in pd.read_csv(Path(f\"/anvil/projects/tdm/data/noaa/{myyear}.csv\"), header=None, names=column_title_list,chunksize=10000):\n",
    "            chunk = myDF[(myDF['qflag'] == qflags)]\n",
    "            count += len(chunk)\n",
    "        if count > top_year_count:\n",
    "            top_year_count = count\n",
    "            top_year = myyear\n",
    "    return top_year"
   ]
  },
  {
   "cell_type": "code",
   "execution_count": 59,
   "id": "03fd44ec-ff3d-48e3-9108-a84d16c66691",
   "metadata": {},
   "outputs": [
    {
     "data": {
      "text/plain": [
       "1880"
      ]
     },
     "execution_count": 59,
     "metadata": {},
     "output_type": "execute_result"
    }
   ],
   "source": [
    "max_qflags(range(1880,1884), \"D\", [\"id\",\"date\",\"element_code\",\"value\",\"mflag\",\"qflag\",\"sflag\",\"obstime\"])"
   ]
  },
  {
   "cell_type": "code",
   "execution_count": 60,
   "id": "23913f7e-97f3-41c1-bc2a-6420ad544b98",
   "metadata": {},
   "outputs": [
    {
     "data": {
      "text/plain": [
       "1880"
      ]
     },
     "execution_count": 60,
     "metadata": {},
     "output_type": "execute_result"
    }
   ],
   "source": [
    "max_qflags(range(1880,1884), \"G\", [\"id\",\"date\",\"element_code\",\"value\",\"mflag\",\"qflag\",\"sflag\",\"obstime\"])"
   ]
  },
  {
   "cell_type": "code",
   "execution_count": 61,
   "id": "b5835752-1bd1-4c3a-b657-e5f4db11d094",
   "metadata": {},
   "outputs": [
    {
     "data": {
      "text/plain": [
       "1883"
      ]
     },
     "execution_count": 61,
     "metadata": {},
     "output_type": "execute_result"
    }
   ],
   "source": [
    "max_qflags(range(1880,1884), \"I\", [\"id\",\"date\",\"element_code\",\"value\",\"mflag\",\"qflag\",\"sflag\",\"obstime\"])"
   ]
  },
  {
   "cell_type": "code",
   "execution_count": 62,
   "id": "b4b98550-af68-4425-8f3f-6085e59bc917",
   "metadata": {},
   "outputs": [
    {
     "data": {
      "text/plain": [
       "1882"
      ]
     },
     "execution_count": 62,
     "metadata": {},
     "output_type": "execute_result"
    }
   ],
   "source": [
    "max_qflags(range(1880,1884), \"K\", [\"id\",\"date\",\"element_code\",\"value\",\"mflag\",\"qflag\",\"sflag\",\"obstime\"])"
   ]
  },
  {
   "cell_type": "code",
   "execution_count": 63,
   "id": "0acf30fc-4665-43a2-84f3-18fd6eb9e5e9",
   "metadata": {},
   "outputs": [
    {
     "data": {
      "text/plain": [
       "1881"
      ]
     },
     "execution_count": 63,
     "metadata": {},
     "output_type": "execute_result"
    }
   ],
   "source": [
    "max_qflags(range(1880,1884), \"L\", [\"id\",\"date\",\"element_code\",\"value\",\"mflag\",\"qflag\",\"sflag\",\"obstime\"])"
   ]
  },
  {
   "cell_type": "code",
   "execution_count": 65,
   "id": "b728b20a-384c-404f-a097-852da9e41707",
   "metadata": {},
   "outputs": [
    {
     "data": {
      "text/plain": [
       "1880"
      ]
     },
     "execution_count": 65,
     "metadata": {},
     "output_type": "execute_result"
    }
   ],
   "source": [
    "max_qflags(range(1880,1884), \"N\", [\"id\",\"date\",\"element_code\",\"value\",\"mflag\",\"qflag\",\"sflag\",\"obstime\"])"
   ]
  },
  {
   "cell_type": "code",
   "execution_count": 66,
   "id": "5933f7f6-0f1e-4ef9-8b71-5ab19c1b2ace",
   "metadata": {},
   "outputs": [
    {
     "data": {
      "text/plain": [
       "1880"
      ]
     },
     "execution_count": 66,
     "metadata": {},
     "output_type": "execute_result"
    }
   ],
   "source": [
    "max_qflags(range(1880,1884), \"O\", [\"id\",\"date\",\"element_code\",\"value\",\"mflag\",\"qflag\",\"sflag\",\"obstime\"])"
   ]
  },
  {
   "cell_type": "code",
   "execution_count": 67,
   "id": "486b4e2f-c21e-45f5-8bbe-c8b960e05c24",
   "metadata": {},
   "outputs": [
    {
     "data": {
      "text/plain": [
       "1882"
      ]
     },
     "execution_count": 67,
     "metadata": {},
     "output_type": "execute_result"
    }
   ],
   "source": [
    "max_qflags(range(1880,1884), \"S\", [\"id\",\"date\",\"element_code\",\"value\",\"mflag\",\"qflag\",\"sflag\",\"obstime\"])"
   ]
  },
  {
   "cell_type": "code",
   "execution_count": 68,
   "id": "166066d7-36d4-4ac1-8206-85926e3c40f9",
   "metadata": {},
   "outputs": [
    {
     "data": {
      "text/plain": [
       "1881"
      ]
     },
     "execution_count": 68,
     "metadata": {},
     "output_type": "execute_result"
    }
   ],
   "source": [
    "max_qflags(range(1880,1884), \"X\", [\"id\",\"date\",\"element_code\",\"value\",\"mflag\",\"qflag\",\"sflag\",\"obstime\"])"
   ]
  },
  {
   "cell_type": "markdown",
   "id": "88c9cdac-3e92-498f-83fa-e089bfc44ac8",
   "metadata": {},
   "source": [
    "## Question 5"
   ]
  },
  {
   "cell_type": "code",
   "execution_count": 70,
   "id": "d370d7c9-06db-42b9-b75f-240481a5c491",
   "metadata": {},
   "outputs": [],
   "source": [
    "myDF= pd.read_csv(Path(f\"/anvil/projects/tdm/data/noaa/1880.csv\"), header=None, names=[\"id\",\"date\",\"element_code\",\"value\",\"mflag\",\"qflag\",\"sflag\",\"obstime\"])"
   ]
  },
  {
   "cell_type": "code",
   "execution_count": 71,
   "id": "34acc5ee-25b8-45c2-a0ec-dbe759ed91e3",
   "metadata": {},
   "outputs": [
    {
     "data": {
      "text/plain": [
       "<bound method NDFrame.head of                  id      date element_code  value mflag qflag sflag  obstime\n",
       "0       AGE00147705  18800101         PRCP      0   NaN   NaN     E      NaN\n",
       "1       AGE00147708  18800101         PRCP     36   NaN   NaN     E      NaN\n",
       "2       AGE00147709  18800101         PRCP     36   NaN   NaN     E      NaN\n",
       "3       AGE00147712  18800101         PRCP      0   NaN   NaN     E      NaN\n",
       "4       AGE00147713  18800101         TMAX     52   NaN   NaN     E      NaN\n",
       "...             ...       ...          ...    ...   ...   ...   ...      ...\n",
       "370774  USW00093852  18801231         TMAX     39   NaN   NaN     X      NaN\n",
       "370775  USW00093852  18801231         TMIN    -17   NaN   NaN     X      NaN\n",
       "370776  USW00094728  18801231         TMAX   -122   NaN   NaN     0      NaN\n",
       "370777  USW00094728  18801231         TMIN   -194   NaN   NaN     0      NaN\n",
       "370778  USW00094728  18801231         PRCP      0   NaN   NaN     0      NaN\n",
       "\n",
       "[370779 rows x 8 columns]>"
      ]
     },
     "execution_count": 71,
     "metadata": {},
     "output_type": "execute_result"
    }
   ],
   "source": [
    "myDF.head"
   ]
  },
  {
   "cell_type": "code",
   "execution_count": 80,
   "id": "70738c2a-f1a0-4c4c-a142-42ae0a34b4b6",
   "metadata": {},
   "outputs": [],
   "source": [
    "def max_element_code_average (years, element_code, column_title_list =[\"id\",\"date\",\"element_code\",\"value\",\"mflag\",\"qflag\",\"sflag\",\"obstime\"]):\n",
    "    \"\"\"\n",
    "    This function takes a range of years, the element code as well as a column title list. It then goes through the years getting their averages for the selected \n",
    "    element code. It keeps the year with the highest average.\n",
    "    \n",
    "    args: \n",
    "        years(int): The years from the dataframe.\n",
    "        element_code(str): The chosen element_code from the dataframe\n",
    "        column_title_list: standarization of the dataframe as it does not have a header. \n",
    "        \n",
    "    Returns:\n",
    "        int: Returns the year with the highest value average for the selected element code.\n",
    "    \"\"\"\n",
    "    top_year_value = 0\n",
    "    top_year = 0\n",
    "    for myyear in years:\n",
    "        total = 0\n",
    "        count = 0\n",
    "        for myDF in pd.read_csv(Path(f\"/anvil/projects/tdm/data/noaa/{myyear}.csv\"), header=None, names=column_title_list,chunksize=10000):\n",
    "            chunk = myDF[(myDF['element_code'] == element_code)]\n",
    "            total += sum(chunk['value'])\n",
    "            count += len(chunk)\n",
    "            average = total/count\n",
    "        if average > top_year_value:\n",
    "            top_year_value = average\n",
    "            top_year = myyear\n",
    "    return top_year"
   ]
  },
  {
   "cell_type": "code",
   "execution_count": 81,
   "id": "0f9ec72b-6df5-4b20-9f66-93562cb2b8f8",
   "metadata": {},
   "outputs": [
    {
     "data": {
      "text/plain": [
       "1890"
      ]
     },
     "execution_count": 81,
     "metadata": {},
     "output_type": "execute_result"
    }
   ],
   "source": [
    "max_element_code_average(range(1880, 1900), 'PRCP')"
   ]
  },
  {
   "cell_type": "markdown",
   "id": "9fbf00fb-2418-460f-ae94-2a32b0c28952",
   "metadata": {},
   "source": [
    "Markdown notes and sentences and analysis written here."
   ]
  },
  {
   "cell_type": "markdown",
   "id": "f76442d6-d02e-4f26-b9d6-c3183e1d6929",
   "metadata": {},
   "source": [
    "## Pledge\n",
    "\n",
    "By submitting this work I hereby pledge that this is my own, personal work. I've acknowledged in the designated place at the top of this file all sources that I used to complete said work, including but not limited to: online resources, books, and electronic communications. I've noted all collaboration with fellow students and/or TA's. I did not copy or plagiarize another's work.\n",
    "\n",
    "> As a Boilermaker pursuing academic excellence, I pledge to be honest and true in all that I do. Accountable together – We are Purdue."
   ]
  }
 ],
 "metadata": {
  "kernelspec": {
   "display_name": "seminar",
   "language": "python",
   "name": "seminar"
  },
  "language_info": {
   "codemirror_mode": {
    "name": "ipython",
    "version": 3
   },
   "file_extension": ".py",
   "mimetype": "text/x-python",
   "name": "python",
   "nbconvert_exporter": "python",
   "pygments_lexer": "ipython3",
   "version": "3.11.5"
  }
 },
 "nbformat": 4,
 "nbformat_minor": 5
}
